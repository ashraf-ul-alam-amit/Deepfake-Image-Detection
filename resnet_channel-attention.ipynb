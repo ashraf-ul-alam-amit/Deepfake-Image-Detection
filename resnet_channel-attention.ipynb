{
 "cells": [
  {
   "cell_type": "code",
   "execution_count": 1,
   "id": "6e98a22a",
   "metadata": {
    "_cell_guid": "b1076dfc-b9ad-4769-8c92-a6c4dae69d19",
    "_uuid": "8f2839f25d086af736a60e9eeb907d3b93b6e0e5",
    "execution": {
     "iopub.execute_input": "2024-08-30T17:57:31.906533Z",
     "iopub.status.busy": "2024-08-30T17:57:31.905895Z",
     "iopub.status.idle": "2024-08-30T17:58:50.234478Z",
     "shell.execute_reply": "2024-08-30T17:58:50.233452Z"
    },
    "papermill": {
     "duration": 78.336752,
     "end_time": "2024-08-30T17:58:50.236753",
     "exception": false,
     "start_time": "2024-08-30T17:57:31.900001",
     "status": "completed"
    },
    "tags": []
   },
   "outputs": [
    {
     "name": "stdout",
     "output_type": "stream",
     "text": [
      "Found 100000 images belonging to 2 classes.\n",
      "Found 20000 images belonging to 2 classes.\n",
      "Found 20000 images belonging to 2 classes.\n"
     ]
    }
   ],
   "source": [
    "from tensorflow.keras.preprocessing.image import ImageDataGenerator\n",
    "\n",
    "train_datagen = ImageDataGenerator(rescale=1./255, fill_mode='nearest')\n",
    "val_datagen = ImageDataGenerator(rescale=1./255)\n",
    "test_datagen = ImageDataGenerator(rescale=1./255)\n",
    "\n",
    "train_data = train_datagen.flow_from_directory(\n",
    "    '/kaggle/input/140k-real-and-fake-faces/real_vs_fake/real-vs-fake/train',\n",
    "    target_size=(224, 224),\n",
    "    batch_size=128,\n",
    "    class_mode='binary'\n",
    ")\n",
    "\n",
    "val_data = val_datagen.flow_from_directory(\n",
    "    '/kaggle/input/140k-real-and-fake-faces/real_vs_fake/real-vs-fake/valid',\n",
    "    target_size=(224, 224),\n",
    "    batch_size=128,\n",
    "    class_mode='binary'\n",
    ")\n",
    "\n",
    "test_data = test_datagen.flow_from_directory(\n",
    "    '/kaggle/input/140k-real-and-fake-faces/real_vs_fake/real-vs-fake/test',\n",
    "    target_size=(224, 224),\n",
    "    batch_size=128,\n",
    "    class_mode='binary',\n",
    "    shuffle=False\n",
    ")"
   ]
  },
  {
   "cell_type": "code",
   "execution_count": 2,
   "id": "943596f8",
   "metadata": {
    "execution": {
     "iopub.execute_input": "2024-08-30T17:58:50.248389Z",
     "iopub.status.busy": "2024-08-30T17:58:50.247648Z",
     "iopub.status.idle": "2024-08-30T17:58:50.257160Z",
     "shell.execute_reply": "2024-08-30T17:58:50.256269Z"
    },
    "papermill": {
     "duration": 0.017945,
     "end_time": "2024-08-30T17:58:50.259616",
     "exception": false,
     "start_time": "2024-08-30T17:58:50.241671",
     "status": "completed"
    },
    "tags": []
   },
   "outputs": [],
   "source": [
    "from tensorflow.keras.layers import GlobalAveragePooling2D, GlobalMaxPooling2D, Dense, multiply, Add, Reshape, Activation\n",
    "\n",
    "def channel_attention(inputs, ratio=8):\n",
    "    x = GlobalAveragePooling2D()(inputs)\n",
    "    x = Dense(int(inputs.shape[-1]) // 8, activation='relu')(x)\n",
    "    x = Dense(int(inputs.shape[-1]))(x)\n",
    "    x = Activation('sigmoid')(x)\n",
    "    x = Reshape((1, 1, inputs.shape[-1]))(x)\n",
    "    return multiply([inputs, x])"
   ]
  },
  {
   "cell_type": "code",
   "execution_count": 3,
   "id": "ec0072fc",
   "metadata": {
    "execution": {
     "iopub.execute_input": "2024-08-30T17:58:50.273273Z",
     "iopub.status.busy": "2024-08-30T17:58:50.272653Z",
     "iopub.status.idle": "2024-08-30T17:58:53.435582Z",
     "shell.execute_reply": "2024-08-30T17:58:53.434797Z"
    },
    "papermill": {
     "duration": 3.172334,
     "end_time": "2024-08-30T17:58:53.437955",
     "exception": false,
     "start_time": "2024-08-30T17:58:50.265621",
     "status": "completed"
    },
    "tags": []
   },
   "outputs": [
    {
     "name": "stdout",
     "output_type": "stream",
     "text": [
      "Downloading data from https://storage.googleapis.com/tensorflow/keras-applications/resnet/resnet50_weights_tf_dim_ordering_tf_kernels_notop.h5\n",
      "\u001b[1m94765736/94765736\u001b[0m \u001b[32m━━━━━━━━━━━━━━━━━━━━\u001b[0m\u001b[37m\u001b[0m \u001b[1m1s\u001b[0m 0us/step\n"
     ]
    }
   ],
   "source": [
    "import tensorflow as tf\n",
    "from tensorflow.keras.applications import ResNet50, VGG16\n",
    "from tensorflow.keras.layers import Dense, GlobalAveragePooling2D\n",
    "from tensorflow.keras.models import Model\n",
    "from tensorflow.keras.optimizers import Adam, SGD\n",
    "\n",
    "#           ResNet50 / VGG16,   None / 'imagenet'\n",
    "resnet_model = ResNet50(weights='imagenet', include_top=False, input_shape=(224, 224, 3))\n",
    "\n",
    "# for layer in resnet_model.layers:\n",
    "#     layer.trainable = False\n",
    "\n",
    "\n",
    "x = resnet_model.output\n",
    "x = channel_attention(x)\n",
    "\n",
    "x = GlobalAveragePooling2D()(x)\n",
    "x = Dense(128, activation='relu')(x)\n",
    "predictions = Dense(1, activation='sigmoid')(x) # Binary class Real - Fake\n",
    "\n",
    "model = Model(inputs=resnet_model.input, outputs=predictions)"
   ]
  },
  {
   "cell_type": "code",
   "execution_count": 4,
   "id": "7162619a",
   "metadata": {
    "execution": {
     "iopub.execute_input": "2024-08-30T17:58:53.450188Z",
     "iopub.status.busy": "2024-08-30T17:58:53.449647Z",
     "iopub.status.idle": "2024-08-30T23:11:12.210116Z",
     "shell.execute_reply": "2024-08-30T23:11:12.209252Z"
    },
    "papermill": {
     "duration": 18740.074544,
     "end_time": "2024-08-30T23:11:13.518068",
     "exception": false,
     "start_time": "2024-08-30T17:58:53.443524",
     "status": "completed"
    },
    "tags": []
   },
   "outputs": [
    {
     "name": "stdout",
     "output_type": "stream",
     "text": [
      "Epoch 1/20\n"
     ]
    },
    {
     "name": "stderr",
     "output_type": "stream",
     "text": [
      "/opt/conda/lib/python3.10/site-packages/keras/src/trainers/data_adapters/py_dataset_adapter.py:121: UserWarning: Your `PyDataset` class should call `super().__init__(**kwargs)` in its constructor. `**kwargs` can include `workers`, `use_multiprocessing`, `max_queue_size`. Do not pass these arguments to `fit()`, as they will be ignored.\n",
      "  self._warn_if_super_not_called()\n",
      "WARNING: All log messages before absl::InitializeLog() is called are written to STDERR\n",
      "I0000 00:00:1725040771.742250      90 service.cc:145] XLA service 0x79119c001350 initialized for platform CUDA (this does not guarantee that XLA will be used). Devices:\n",
      "I0000 00:00:1725040771.742309      90 service.cc:153]   StreamExecutor device (0): Tesla T4, Compute Capability 7.5\n",
      "I0000 00:00:1725040771.742316      90 service.cc:153]   StreamExecutor device (1): Tesla T4, Compute Capability 7.5\n",
      "WARNING: All log messages before absl::InitializeLog() is called are written to STDERR\n",
      "I0000 00:00:1725040823.039445      90 asm_compiler.cc:369] ptxas warning : Registers are spilled to local memory in function 'loop_add_subtract_fusion_39', 20 bytes spill stores, 20 bytes spill loads\n",
      "\n",
      "I0000 00:00:1725040823.086348      90 device_compiler.h:188] Compiled cluster using XLA!  This line is logged at most once for the lifetime of the process.\n"
     ]
    },
    {
     "name": "stdout",
     "output_type": "stream",
     "text": [
      "\u001b[1m587/782\u001b[0m \u001b[32m━━━━━━━━━━━━━━━\u001b[0m\u001b[37m━━━━━\u001b[0m \u001b[1m3:35\u001b[0m 1s/step - accuracy: 0.9291 - loss: 0.1584"
     ]
    },
    {
     "name": "stderr",
     "output_type": "stream",
     "text": [
      "I0000 00:00:1725041497.461630      90 asm_compiler.cc:369] ptxas warning : Registers are spilled to local memory in function 'loop_add_subtract_fusion_40', 20 bytes spill stores, 20 bytes spill loads\n",
      "\n"
     ]
    },
    {
     "name": "stdout",
     "output_type": "stream",
     "text": [
      "\u001b[1m782/782\u001b[0m \u001b[32m━━━━━━━━━━━━━━━━━━━━\u001b[0m\u001b[37m\u001b[0m \u001b[1m1092s\u001b[0m 1s/step - accuracy: 0.9399 - loss: 0.1361 - val_accuracy: 0.5143 - val_loss: 4.4394\n",
      "Epoch 2/20\n",
      "\u001b[1m782/782\u001b[0m \u001b[32m━━━━━━━━━━━━━━━━━━━━\u001b[0m\u001b[37m\u001b[0m \u001b[1m925s\u001b[0m 1s/step - accuracy: 0.9966 - loss: 0.0092 - val_accuracy: 0.9585 - val_loss: 0.1450\n",
      "Epoch 3/20\n",
      "\u001b[1m782/782\u001b[0m \u001b[32m━━━━━━━━━━━━━━━━━━━━\u001b[0m\u001b[37m\u001b[0m \u001b[1m930s\u001b[0m 1s/step - accuracy: 0.9970 - loss: 0.0092 - val_accuracy: 0.9954 - val_loss: 0.0144\n",
      "Epoch 4/20\n",
      "\u001b[1m782/782\u001b[0m \u001b[32m━━━━━━━━━━━━━━━━━━━━\u001b[0m\u001b[37m\u001b[0m \u001b[1m924s\u001b[0m 1s/step - accuracy: 0.9976 - loss: 0.0066 - val_accuracy: 0.9409 - val_loss: 0.2196\n",
      "Epoch 5/20\n",
      "\u001b[1m782/782\u001b[0m \u001b[32m━━━━━━━━━━━━━━━━━━━━\u001b[0m\u001b[37m\u001b[0m \u001b[1m923s\u001b[0m 1s/step - accuracy: 0.9980 - loss: 0.0058 - val_accuracy: 0.9872 - val_loss: 0.0434\n",
      "Epoch 6/20\n",
      "\u001b[1m782/782\u001b[0m \u001b[32m━━━━━━━━━━━━━━━━━━━━\u001b[0m\u001b[37m\u001b[0m \u001b[1m930s\u001b[0m 1s/step - accuracy: 0.9985 - loss: 0.0042 - val_accuracy: 0.9607 - val_loss: 0.1361\n",
      "Epoch 7/20\n",
      "\u001b[1m782/782\u001b[0m \u001b[32m━━━━━━━━━━━━━━━━━━━━\u001b[0m\u001b[37m\u001b[0m \u001b[1m929s\u001b[0m 1s/step - accuracy: 0.9987 - loss: 0.0044 - val_accuracy: 0.9599 - val_loss: 0.1421\n",
      "Epoch 8/20\n",
      "\u001b[1m782/782\u001b[0m \u001b[32m━━━━━━━━━━━━━━━━━━━━\u001b[0m\u001b[37m\u001b[0m \u001b[1m929s\u001b[0m 1s/step - accuracy: 0.9984 - loss: 0.0052 - val_accuracy: 0.9441 - val_loss: 0.2289\n",
      "Epoch 9/20\n",
      "\u001b[1m782/782\u001b[0m \u001b[32m━━━━━━━━━━━━━━━━━━━━\u001b[0m\u001b[37m\u001b[0m \u001b[1m924s\u001b[0m 1s/step - accuracy: 0.9986 - loss: 0.0042 - val_accuracy: 0.9804 - val_loss: 0.0624\n",
      "Epoch 10/20\n",
      "\u001b[1m782/782\u001b[0m \u001b[32m━━━━━━━━━━━━━━━━━━━━\u001b[0m\u001b[37m\u001b[0m \u001b[1m922s\u001b[0m 1s/step - accuracy: 0.9986 - loss: 0.0036 - val_accuracy: 0.9773 - val_loss: 0.0820\n",
      "Epoch 11/20\n",
      "\u001b[1m782/782\u001b[0m \u001b[32m━━━━━━━━━━━━━━━━━━━━\u001b[0m\u001b[37m\u001b[0m \u001b[1m924s\u001b[0m 1s/step - accuracy: 0.9986 - loss: 0.0041 - val_accuracy: 0.7639 - val_loss: 1.4838\n",
      "Epoch 12/20\n",
      "\u001b[1m782/782\u001b[0m \u001b[32m━━━━━━━━━━━━━━━━━━━━\u001b[0m\u001b[37m\u001b[0m \u001b[1m923s\u001b[0m 1s/step - accuracy: 0.9991 - loss: 0.0025 - val_accuracy: 0.8860 - val_loss: 0.5604\n",
      "Epoch 13/20\n",
      "\u001b[1m782/782\u001b[0m \u001b[32m━━━━━━━━━━━━━━━━━━━━\u001b[0m\u001b[37m\u001b[0m \u001b[1m925s\u001b[0m 1s/step - accuracy: 0.9992 - loss: 0.0022 - val_accuracy: 0.9948 - val_loss: 0.0161\n",
      "Epoch 14/20\n",
      "\u001b[1m782/782\u001b[0m \u001b[32m━━━━━━━━━━━━━━━━━━━━\u001b[0m\u001b[37m\u001b[0m \u001b[1m925s\u001b[0m 1s/step - accuracy: 0.9990 - loss: 0.0031 - val_accuracy: 0.9348 - val_loss: 0.2083\n",
      "Epoch 15/20\n",
      "\u001b[1m782/782\u001b[0m \u001b[32m━━━━━━━━━━━━━━━━━━━━\u001b[0m\u001b[37m\u001b[0m \u001b[1m923s\u001b[0m 1s/step - accuracy: 0.9994 - loss: 0.0018 - val_accuracy: 0.9800 - val_loss: 0.0626\n",
      "Epoch 16/20\n",
      "\u001b[1m782/782\u001b[0m \u001b[32m━━━━━━━━━━━━━━━━━━━━\u001b[0m\u001b[37m\u001b[0m \u001b[1m925s\u001b[0m 1s/step - accuracy: 0.9994 - loss: 0.0018 - val_accuracy: 0.9898 - val_loss: 0.0329\n",
      "Epoch 17/20\n",
      "\u001b[1m782/782\u001b[0m \u001b[32m━━━━━━━━━━━━━━━━━━━━\u001b[0m\u001b[37m\u001b[0m \u001b[1m925s\u001b[0m 1s/step - accuracy: 0.9990 - loss: 0.0029 - val_accuracy: 0.9965 - val_loss: 0.0103\n",
      "Epoch 18/20\n",
      "\u001b[1m782/782\u001b[0m \u001b[32m━━━━━━━━━━━━━━━━━━━━\u001b[0m\u001b[37m\u001b[0m \u001b[1m930s\u001b[0m 1s/step - accuracy: 0.9996 - loss: 0.0011 - val_accuracy: 0.9923 - val_loss: 0.0304\n",
      "Epoch 19/20\n",
      "\u001b[1m782/782\u001b[0m \u001b[32m━━━━━━━━━━━━━━━━━━━━\u001b[0m\u001b[37m\u001b[0m \u001b[1m923s\u001b[0m 1s/step - accuracy: 0.9995 - loss: 0.0015 - val_accuracy: 0.9845 - val_loss: 0.0423\n",
      "Epoch 20/20\n",
      "\u001b[1m782/782\u001b[0m \u001b[32m━━━━━━━━━━━━━━━━━━━━\u001b[0m\u001b[37m\u001b[0m \u001b[1m985s\u001b[0m 1s/step - accuracy: 0.9995 - loss: 0.0016 - val_accuracy: 0.9840 - val_loss: 0.0557\n"
     ]
    }
   ],
   "source": [
    "model.compile(optimizer=Adam(learning_rate=0.0001), loss='binary_crossentropy', metrics=['accuracy'])\n",
    "# model.compile(optimizer=SGD(learning_rate=0.0001, momentum=0.9), loss='binary_crossentropy', metrics=['accuracy'])\n",
    "\n",
    "history = model.fit(\n",
    "    train_data,\n",
    "    epochs=20,\n",
    "    validation_data=val_data,\n",
    "    # steps_per_epoch=train_data.samples // train_data.batch_size,\n",
    "    # validation_steps=val_data.samples // val_data.batch_size,\n",
    "    verbose=1\n",
    ")"
   ]
  },
  {
   "cell_type": "code",
   "execution_count": 5,
   "id": "9124bfae",
   "metadata": {
    "execution": {
     "iopub.execute_input": "2024-08-30T23:11:16.104309Z",
     "iopub.status.busy": "2024-08-30T23:11:16.103611Z",
     "iopub.status.idle": "2024-08-30T23:11:16.384926Z",
     "shell.execute_reply": "2024-08-30T23:11:16.383633Z"
    },
    "papermill": {
     "duration": 1.600369,
     "end_time": "2024-08-30T23:11:16.387140",
     "exception": false,
     "start_time": "2024-08-30T23:11:14.786771",
     "status": "completed"
    },
    "tags": []
   },
   "outputs": [
    {
     "name": "stdout",
     "output_type": "stream",
     "text": [
      "(128, 224, 224, 3)\n",
      "[0. 1. 1. 0. 1. 0. 1. 0. 0. 1. 0. 1. 1. 0. 1. 0. 1. 1. 1. 0. 1. 0. 1. 0.\n",
      " 1. 1. 1. 1. 1. 0. 0. 0. 1. 1. 1. 1. 1. 0. 0. 1. 1. 1. 1. 1. 1. 0. 1. 0.\n",
      " 1. 1. 0. 0. 1. 0. 0. 0. 0. 0. 1. 1. 1. 0. 0. 0. 0. 0. 1. 0. 1. 1. 0. 1.\n",
      " 1. 1. 1. 0. 1. 0. 0. 0. 1. 1. 1. 1. 1. 1. 1. 0. 1. 1. 0. 0. 1. 1. 1. 0.\n",
      " 1. 1. 0. 0. 0. 1. 0. 0. 1. 1. 1. 1. 0. 0. 0. 1. 1. 0. 0. 0. 1. 1. 1. 0.\n",
      " 1. 0. 1. 1. 1. 1. 1. 0.]\n"
     ]
    }
   ],
   "source": [
    "for images, labels in val_data:\n",
    "    print(images.shape)\n",
    "    print(labels)\n",
    "    break"
   ]
  },
  {
   "cell_type": "code",
   "execution_count": 6,
   "id": "f6d610d9",
   "metadata": {
    "execution": {
     "iopub.execute_input": "2024-08-30T23:11:18.968008Z",
     "iopub.status.busy": "2024-08-30T23:11:18.967177Z",
     "iopub.status.idle": "2024-08-30T23:13:54.260009Z",
     "shell.execute_reply": "2024-08-30T23:13:54.259127Z"
    },
    "papermill": {
     "duration": 156.56475,
     "end_time": "2024-08-30T23:13:54.261877",
     "exception": false,
     "start_time": "2024-08-30T23:11:17.697127",
     "status": "completed"
    },
    "tags": []
   },
   "outputs": [
    {
     "name": "stdout",
     "output_type": "stream",
     "text": [
      "\u001b[1m157/157\u001b[0m \u001b[32m━━━━━━━━━━━━━━━━━━━━\u001b[0m\u001b[37m\u001b[0m \u001b[1m153s\u001b[0m 978ms/step - accuracy: 0.9748 - loss: 0.0944\n",
      "Test Accuracy: 98.41%\n"
     ]
    }
   ],
   "source": [
    "# test set accuracy\n",
    "test_loss, test_accuracy = model.evaluate(test_data)\n",
    "print(f\"Test Accuracy: {test_accuracy * 100:.2f}%\")"
   ]
  },
  {
   "cell_type": "code",
   "execution_count": 7,
   "id": "904f9c6e",
   "metadata": {
    "execution": {
     "iopub.execute_input": "2024-08-30T23:13:56.886012Z",
     "iopub.status.busy": "2024-08-30T23:13:56.885614Z",
     "iopub.status.idle": "2024-08-30T23:13:58.181767Z",
     "shell.execute_reply": "2024-08-30T23:13:58.180824Z"
    },
    "papermill": {
     "duration": 2.643691,
     "end_time": "2024-08-30T23:13:58.184353",
     "exception": false,
     "start_time": "2024-08-30T23:13:55.540662",
     "status": "completed"
    },
    "tags": []
   },
   "outputs": [
    {
     "data": {
      "image/png": "[encoded data removed]",
      "text/plain": [
       "<Figure size 1200x400 with 2 Axes>"
      ]
     },
     "metadata": {},
     "output_type": "display_data"
    }
   ],
   "source": [
    "import matplotlib.pyplot as plt\n",
    "\n",
    "# Plot accuracy\n",
    "plt.figure(figsize=(12, 4))\n",
    "plt.subplot(1, 2, 1)\n",
    "plt.plot(history.history['accuracy'], label='Train Accuracy')\n",
    "plt.plot(history.history['val_accuracy'], label='Val Accuracy')\n",
    "plt.title('Accuracy Curves')\n",
    "plt.xlabel('Epochs')\n",
    "plt.ylabel('Accuracy')\n",
    "plt.savefig(\"acc.pdf\")\n",
    "plt.legend()\n",
    "\n",
    "# Plot loss curves\n",
    "plt.subplot(1, 2, 2)\n",
    "plt.plot(history.history['loss'], label='Train Loss')\n",
    "plt.plot(history.history['val_loss'], label='Val Loss')\n",
    "plt.title('Loss Curves')\n",
    "plt.xlabel('Epochs')\n",
    "plt.ylabel('Loss')\n",
    "plt.legend()\n",
    "plt.savefig(\"loss.pdf\")\n",
    "plt.show()"
   ]
  },
  {
   "cell_type": "code",
   "execution_count": 8,
   "id": "0487a2a7",
   "metadata": {
    "execution": {
     "iopub.execute_input": "2024-08-30T23:14:00.794530Z",
     "iopub.status.busy": "2024-08-30T23:14:00.793572Z",
     "iopub.status.idle": "2024-08-30T23:15:01.187088Z",
     "shell.execute_reply": "2024-08-30T23:15:01.186009Z"
    },
    "papermill": {
     "duration": 61.681431,
     "end_time": "2024-08-30T23:15:01.189178",
     "exception": false,
     "start_time": "2024-08-30T23:13:59.507747",
     "status": "completed"
    },
    "tags": []
   },
   "outputs": [
    {
     "name": "stdout",
     "output_type": "stream",
     "text": [
      "\u001b[1m157/157\u001b[0m \u001b[32m━━━━━━━━━━━━━━━━━━━━\u001b[0m\u001b[37m\u001b[0m \u001b[1m58s\u001b[0m 350ms/step\n"
     ]
    },
    {
     "data": {
      "image/png": "[encoded data removed]",
      "text/plain": [
       "<Figure size 640x480 with 2 Axes>"
      ]
     },
     "metadata": {},
     "output_type": "display_data"
    }
   ],
   "source": [
    "# Confusion Matrix\n",
    "from sklearn.metrics import confusion_matrix, ConfusionMatrixDisplay\n",
    "\n",
    "y_pred_prob = model.predict(test_data, verbose=1)\n",
    "\n",
    "y_pred = (y_pred_prob > 0.5).astype(\"int32\").flatten()\n",
    "y_true = test_data.labels[:len(y_pred)]\n",
    "\n",
    "cm = confusion_matrix(y_true, y_pred)\n",
    "cmd = ConfusionMatrixDisplay(confusion_matrix=cm, display_labels=['Fake', 'Real'])\n",
    "cmd.plot(cmap=plt.cm.Blues)\n",
    "plt.savefig(\"cm.pdf\")\n",
    "plt.show()"
   ]
  },
  {
   "cell_type": "code",
   "execution_count": 9,
   "id": "5a45764e",
   "metadata": {
    "execution": {
     "iopub.execute_input": "2024-08-30T23:15:03.848924Z",
     "iopub.status.busy": "2024-08-30T23:15:03.848256Z",
     "iopub.status.idle": "2024-08-30T23:15:04.162402Z",
     "shell.execute_reply": "2024-08-30T23:15:04.161455Z"
    },
    "papermill": {
     "duration": 1.636507,
     "end_time": "2024-08-30T23:15:04.164486",
     "exception": false,
     "start_time": "2024-08-30T23:15:02.527979",
     "status": "completed"
    },
    "tags": []
   },
   "outputs": [
    {
     "data": {
      "image/png": "[encoded data removed]",
      "text/plain": [
       "<Figure size 640x480 with 1 Axes>"
      ]
     },
     "metadata": {},
     "output_type": "display_data"
    }
   ],
   "source": [
    "from sklearn.metrics import roc_curve, auc\n",
    "\n",
    "# AUC-ROC Curve\n",
    "# y_pred_prob = model.predict(test_data)\n",
    "fpr, tpr, thresholds = roc_curve(test_data.labels, y_pred_prob)\n",
    "roc_auc = auc(fpr, tpr)\n",
    "\n",
    "plt.figure()\n",
    "plt.plot(fpr, tpr, color='darkorange', lw=2, label='ROC curve (area = %0.2f)' % roc_auc)\n",
    "plt.plot([0, 1], [0, 1], color='navy', lw=2, linestyle='--')\n",
    "plt.xlim([0.0, 1.0])\n",
    "plt.ylim([0.0, 1.05])\n",
    "plt.xlabel('False Positive Rate')\n",
    "plt.ylabel('True Positive Rate')\n",
    "plt.title('Receiver Operating Characteristic')\n",
    "plt.legend(loc=\"lower right\")\n",
    "plt.savefig(\"roc_auc.pdf\")\n",
    "plt.show()"
   ]
  },
  {
   "cell_type": "code",
   "execution_count": 10,
   "id": "4917b8f6",
   "metadata": {
    "execution": {
     "iopub.execute_input": "2024-08-30T23:15:06.852937Z",
     "iopub.status.busy": "2024-08-30T23:15:06.852531Z",
     "iopub.status.idle": "2024-08-30T23:15:08.710218Z",
     "shell.execute_reply": "2024-08-30T23:15:08.708931Z"
    },
    "papermill": {
     "duration": 3.235097,
     "end_time": "2024-08-30T23:15:08.711912",
     "exception": true,
     "start_time": "2024-08-30T23:15:05.476815",
     "status": "failed"
    },
    "tags": []
   },
   "outputs": [
    {
     "ename": "ValueError",
     "evalue": "The filename must end in `.weights.h5`. Received: filepath=model_weights.h5",
     "output_type": "error",
     "traceback": [
      "\u001b[0;31m---------------------------------------------------------------------------\u001b[0m",
      "\u001b[0;31mValueError\u001b[0m                                Traceback (most recent call last)",
      "Cell \u001b[0;32mIn[10], line 7\u001b[0m\n\u001b[1;32m      5\u001b[0m \u001b[38;5;28;01mwith\u001b[39;00m \u001b[38;5;28mopen\u001b[39m(\u001b[38;5;124m\"\u001b[39m\u001b[38;5;124mmodel_architecture.json\u001b[39m\u001b[38;5;124m\"\u001b[39m, \u001b[38;5;124m\"\u001b[39m\u001b[38;5;124mw\u001b[39m\u001b[38;5;124m\"\u001b[39m) \u001b[38;5;28;01mas\u001b[39;00m json_file:\n\u001b[1;32m      6\u001b[0m     json_file\u001b[38;5;241m.\u001b[39mwrite(model_json)\n\u001b[0;32m----> 7\u001b[0m \u001b[43mmodel\u001b[49m\u001b[38;5;241;43m.\u001b[39;49m\u001b[43msave_weights\u001b[49m\u001b[43m(\u001b[49m\u001b[38;5;124;43m\"\u001b[39;49m\u001b[38;5;124;43mmodel_weights.h5\u001b[39;49m\u001b[38;5;124;43m\"\u001b[39;49m\u001b[43m)\u001b[49m\n",
      "File \u001b[0;32m/opt/conda/lib/python3.10/site-packages/keras/src/utils/traceback_utils.py:122\u001b[0m, in \u001b[0;36mfilter_traceback.<locals>.error_handler\u001b[0;34m(*args, **kwargs)\u001b[0m\n\u001b[1;32m    119\u001b[0m     filtered_tb \u001b[38;5;241m=\u001b[39m _process_traceback_frames(e\u001b[38;5;241m.\u001b[39m__traceback__)\n\u001b[1;32m    120\u001b[0m     \u001b[38;5;66;03m# To get the full stack trace, call:\u001b[39;00m\n\u001b[1;32m    121\u001b[0m     \u001b[38;5;66;03m# `keras.config.disable_traceback_filtering()`\u001b[39;00m\n\u001b[0;32m--> 122\u001b[0m     \u001b[38;5;28;01mraise\u001b[39;00m e\u001b[38;5;241m.\u001b[39mwith_traceback(filtered_tb) \u001b[38;5;28;01mfrom\u001b[39;00m \u001b[38;5;28;01mNone\u001b[39;00m\n\u001b[1;32m    123\u001b[0m \u001b[38;5;28;01mfinally\u001b[39;00m:\n\u001b[1;32m    124\u001b[0m     \u001b[38;5;28;01mdel\u001b[39;00m filtered_tb\n",
      "File \u001b[0;32m/opt/conda/lib/python3.10/site-packages/keras/src/saving/saving_api.py:211\u001b[0m, in \u001b[0;36msave_weights\u001b[0;34m(model, filepath, overwrite, **kwargs)\u001b[0m\n\u001b[1;32m    208\u001b[0m \u001b[38;5;129m@keras_export\u001b[39m(\u001b[38;5;124m\"\u001b[39m\u001b[38;5;124mkeras.saving.save_weights\u001b[39m\u001b[38;5;124m\"\u001b[39m)\n\u001b[1;32m    209\u001b[0m \u001b[38;5;28;01mdef\u001b[39;00m \u001b[38;5;21msave_weights\u001b[39m(model, filepath, overwrite\u001b[38;5;241m=\u001b[39m\u001b[38;5;28;01mTrue\u001b[39;00m, \u001b[38;5;241m*\u001b[39m\u001b[38;5;241m*\u001b[39mkwargs):\n\u001b[1;32m    210\u001b[0m     \u001b[38;5;28;01mif\u001b[39;00m \u001b[38;5;129;01mnot\u001b[39;00m \u001b[38;5;28mstr\u001b[39m(filepath)\u001b[38;5;241m.\u001b[39mendswith(\u001b[38;5;124m\"\u001b[39m\u001b[38;5;124m.weights.h5\u001b[39m\u001b[38;5;124m\"\u001b[39m):\n\u001b[0;32m--> 211\u001b[0m         \u001b[38;5;28;01mraise\u001b[39;00m \u001b[38;5;167;01mValueError\u001b[39;00m(\n\u001b[1;32m    212\u001b[0m             \u001b[38;5;124m\"\u001b[39m\u001b[38;5;124mThe filename must end in `.weights.h5`. \u001b[39m\u001b[38;5;124m\"\u001b[39m\n\u001b[1;32m    213\u001b[0m             \u001b[38;5;124mf\u001b[39m\u001b[38;5;124m\"\u001b[39m\u001b[38;5;124mReceived: filepath=\u001b[39m\u001b[38;5;132;01m{\u001b[39;00mfilepath\u001b[38;5;132;01m}\u001b[39;00m\u001b[38;5;124m\"\u001b[39m\n\u001b[1;32m    214\u001b[0m         )\n\u001b[1;32m    215\u001b[0m     \u001b[38;5;28;01mtry\u001b[39;00m:\n\u001b[1;32m    216\u001b[0m         exists \u001b[38;5;241m=\u001b[39m os\u001b[38;5;241m.\u001b[39mpath\u001b[38;5;241m.\u001b[39mexists(filepath)\n",
      "\u001b[0;31mValueError\u001b[0m: The filename must end in `.weights.h5`. Received: filepath=model_weights.h5"
     ]
    }
   ],
   "source": [
    "# model.save('realfake_model')\n",
    "model.save('realfake_model.h5')\n",
    "\n",
    "model_json = model.to_json()\n",
    "with open(\"model_architecture.json\", \"w\") as json_file:\n",
    "    json_file.write(model_json)\n",
    "model.save_weights(\"model_weights.h5\")"
   ]
  },
  {
   "cell_type": "code",
   "execution_count": null,
   "id": "b1d5bd0a",
   "metadata": {
    "execution": {
     "iopub.execute_input": "2024-08-30T12:13:03.810047Z",
     "iopub.status.busy": "2024-08-30T12:13:03.809400Z",
     "iopub.status.idle": "2024-08-30T12:13:03.816923Z",
     "shell.execute_reply": "2024-08-30T12:13:03.815909Z",
     "shell.execute_reply.started": "2024-08-30T12:13:03.810009Z"
    },
    "papermill": {
     "duration": null,
     "end_time": null,
     "exception": null,
     "start_time": null,
     "status": "pending"
    },
    "tags": []
   },
   "outputs": [],
   "source": [
    "# import seaborn as sns\n",
    "# from tensorflow.keras.preprocessing import image\n",
    "\n",
    "# # last_conv_layer = [layer for layer in model.layers if isinstance(layer, tf.keras.layers.Conv2D)][-1]\n",
    "# last_conv_layer = model.get_layer('conv5_block3_out')\n",
    "\n",
    "# grad_model = tf.keras.models.Model(\n",
    "#     [model.inputs],\n",
    "#     [last_conv_layer.output, model.output]\n",
    "# )\n",
    "\n",
    "# def make_gradcam_heatmap(img_array, model, last_conv_layer_name):\n",
    "#     grad_model = tf.keras.models.Model(\n",
    "#         [model.inputs],\n",
    "#         [model.get_layer(last_conv_layer_name).output, model.output]\n",
    "#     )\n",
    "\n",
    "#     with tf.GradientTape() as tape:\n",
    "#         conv_outputs, predictions = grad_model(img_array)\n",
    "#         loss = predictions[:, 0]\n",
    "\n",
    "#     grads = tape.gradient(loss, conv_outputs)[0]\n",
    "\n",
    "#     pooled_grads = tf.reduce_mean(grads, axis=(0, 1))\n",
    "\n",
    "#     conv_outputs = conv_outputs[0]\n",
    "#     heatmap = conv_outputs @ pooled_grads[..., tf.newaxis]\n",
    "#     heatmap = tf.squeeze(heatmap)\n",
    "\n",
    "#     heatmap = np.maximum(heatmap, 0)\n",
    "#     heatmap /= tf.reduce_max(heatmap)\n",
    "\n",
    "#     return heatmap.numpy()\n",
    "\n",
    "# def display_gradcam(img, heatmap, alpha=0.4):\n",
    "#     img = np.array(img)\n",
    "#     heatmap = np.uint8(255 * heatmap)\n",
    "#     jet = plt.cm.get_cmap(\"jet\")\n",
    "#     jet_colors = jet(np.arange(256))[:, :3]\n",
    "#     jet_heatmap = jet_colors[heatmap]\n",
    "#     jet_heatmap = tf.keras.preprocessing.image.array_to_img(jet_heatmap)\n",
    "#     jet_heatmap = jet_heatmap.resize((img.shape[1], img.shape[0]))\n",
    "#     jet_heatmap = tf.keras.preprocessing.image.img_to_array(jet_heatmap)\n",
    "\n",
    "#     superimposed_img = jet_heatmap * alpha + img\n",
    "#     superimposed_img = tf.keras.preprocessing.image.array_to_img(superimposed_img)\n",
    "\n",
    "#     plt.figure(figsize=(10, 5))\n",
    "\n",
    "#     plt.subplot(1, 2, 1)\n",
    "#     plt.imshow(img)\n",
    "#     plt.title('Original Image')\n",
    "#     plt.axis('off')\n",
    "\n",
    "#     plt.subplot(1, 2, 2)\n",
    "#     plt.imshow(superimposed_img)\n",
    "#     plt.title('Grad-CAM')\n",
    "#     plt.axis('off')\n",
    "\n",
    "#     plt.show()\n",
    "\n",
    "# img_path = '/kaggle/input/140k-real-and-fake-faces/real_vs_fake/real-vs-fake/test/fake/00276TOPP4.jpg'  # a test image path\n",
    "# img = image.load_img(img_path, target_size=(224, 224))\n",
    "# img_array = image.img_to_array(img)\n",
    "# img_array = np.expand_dims(img_array, axis=0)\n",
    "# img_array = img_array / 255.0\n",
    "\n",
    "# heatmap = make_gradcam_heatmap(img_array, model, last_conv_layer.name)\n",
    "# display_gradcam(img, heatmap)\n",
    "\n",
    "# img_path = '/kaggle/input/140k-real-and-fake-faces/real_vs_fake/real-vs-fake/test/fake/008BYSE725.jpg'  # a test image path\n",
    "# img = image.load_img(img_path, target_size=(224, 224))\n",
    "# img_array = image.img_to_array(img)\n",
    "# img_array = np.expand_dims(img_array, axis=0)\n",
    "# img_array = img_array / 255.0\n",
    "\n",
    "# heatmap = make_gradcam_heatmap(img_array, model, last_conv_layer.name)\n",
    "# display_gradcam(img, heatmap)"
   ]
  },
  {
   "cell_type": "code",
   "execution_count": null,
   "id": "759cb597",
   "metadata": {
    "execution": {
     "iopub.execute_input": "2024-08-30T12:12:38.209113Z",
     "iopub.status.busy": "2024-08-30T12:12:38.208091Z",
     "iopub.status.idle": "2024-08-30T12:12:50.836959Z",
     "shell.execute_reply": "2024-08-30T12:12:50.835628Z",
     "shell.execute_reply.started": "2024-08-30T12:12:38.209049Z"
    },
    "papermill": {
     "duration": null,
     "end_time": null,
     "exception": null,
     "start_time": null,
     "status": "pending"
    },
    "tags": []
   },
   "outputs": [],
   "source": [
    "# import numpy as np\n",
    "# import matplotlib.pyplot as plt\n",
    "# from sklearn.manifold import TSNE\n",
    "# from tensorflow.keras.applications.resnet50 import preprocess_input\n",
    "\n",
    "\n",
    "# def extract_features(model, datagen, batch_size=32):\n",
    "#     features = []\n",
    "#     labels = []\n",
    "    \n",
    "#     for data_batch, label_batch in datagen.flow(train_data, batch_size=batch_size, shuffle=False):\n",
    "#         feature_batch = model.predict(data_batch)\n",
    "#         features.append(feature_batch)\n",
    "#         labels.append(label_batch)\n",
    "#         if len(features) * batch_size >= datagen.samples:\n",
    "#             break\n",
    "\n",
    "#     return np.vstack(features), np.vstack(labels)\n",
    "\n",
    "# features, labels = extract_features(model, train_datagen)\n",
    "\n",
    "# # Apply t-SNE\n",
    "# tsne = TSNE(n_components=2, random_state=42)\n",
    "# features_tsne = tsne.fit_transform(features)\n",
    "\n",
    "# # Plot the t-SNE results\n",
    "# plt.figure(figsize=(10, 7))\n",
    "# plt.scatter(features_tsne[:, 0], features_tsne[:, 1], c=labels, cmap='viridis', alpha=0.5)\n",
    "# plt.colorbar()\n",
    "# plt.title('t-SNE Visualization of Extracted Features')\n",
    "# plt.xlabel('Dimension 1')\n",
    "# plt.ylabel('Dimension 2')\n",
    "# plt.show()\n"
   ]
  }
 ],
 "metadata": {
  "kaggle": {
   "accelerator": "nvidiaTeslaT4",
   "dataSources": [
    {
     "datasetId": 501529,
     "sourceId": 939937,
     "sourceType": "datasetVersion"
    }
   ],
   "dockerImageVersionId": 30762,
   "isGpuEnabled": true,
   "isInternetEnabled": true,
   "language": "python",
   "sourceType": "notebook"
  },
  "kernelspec": {
   "display_name": "Python 3",
   "language": "python",
   "name": "python3"
  },
  "language_info": {
   "codemirror_mode": {
    "name": "ipython",
    "version": 3
   },
   "file_extension": ".py",
   "mimetype": "text/x-python",
   "name": "python",
   "nbconvert_exporter": "python",
   "pygments_lexer": "ipython3",
   "version": "3.10.14"
  },
  "papermill": {
   "default_parameters": {},
   "duration": 19064.566207,
   "end_time": "2024-08-30T23:15:13.470542",
   "environment_variables": {},
   "exception": true,
   "input_path": "__notebook__.ipynb",
   "output_path": "__notebook__.ipynb",
   "parameters": {},
   "start_time": "2024-08-30T17:57:28.904335",
   "version": "2.6.0"
  }
 },
 "nbformat": 4,
 "nbformat_minor": 5
}
